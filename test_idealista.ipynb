{
 "cells": [
  {
   "cell_type": "code",
   "execution_count": 1,
   "metadata": {},
   "outputs": [],
   "source": [
    "from selenium import webdriver\n",
    "from selenium.webdriver.chrome.service import Service\n",
    "from selenium.webdriver.common.by import By\n",
    "from selenium import webdriver\n",
    "from selenium_stealth import stealth\n",
    "\n",
    "# import urllib3 # urllib3 es un cliente HTTP potente y fácil de usar para Python.\n",
    "from bs4 import BeautifulSoup as bs\n",
    "from src.utils import config\n",
    "import random\n",
    "import fake_useragent \n",
    "import re # Expresiones regulares \n",
    "import time\n",
    "import pandas as pd\n",
    "import requests"
   ]
  },
  {
   "cell_type": "code",
   "execution_count": 1,
   "metadata": {},
   "outputs": [
    {
     "name": "stdout",
     "output_type": "stream",
     "text": [
      "Requirement already satisfied: selenium-stealth in /Library/Frameworks/Python.framework/Versions/3.11/lib/python3.11/site-packages (1.0.6)\n",
      "Requirement already satisfied: selenium in /Library/Frameworks/Python.framework/Versions/3.11/lib/python3.11/site-packages (from selenium-stealth) (4.14.0)\n",
      "Requirement already satisfied: urllib3[socks]<3,>=1.26 in /Library/Frameworks/Python.framework/Versions/3.11/lib/python3.11/site-packages (from selenium->selenium-stealth) (2.0.6)\n",
      "Requirement already satisfied: trio~=0.17 in /Library/Frameworks/Python.framework/Versions/3.11/lib/python3.11/site-packages (from selenium->selenium-stealth) (0.22.2)\n",
      "Requirement already satisfied: trio-websocket~=0.9 in /Library/Frameworks/Python.framework/Versions/3.11/lib/python3.11/site-packages (from selenium->selenium-stealth) (0.11.1)\n",
      "Requirement already satisfied: certifi>=2021.10.8 in /Library/Frameworks/Python.framework/Versions/3.11/lib/python3.11/site-packages (from selenium->selenium-stealth) (2023.7.22)\n",
      "Requirement already satisfied: attrs>=20.1.0 in /Library/Frameworks/Python.framework/Versions/3.11/lib/python3.11/site-packages (from trio~=0.17->selenium->selenium-stealth) (23.1.0)\n",
      "Requirement already satisfied: sortedcontainers in /Library/Frameworks/Python.framework/Versions/3.11/lib/python3.11/site-packages (from trio~=0.17->selenium->selenium-stealth) (2.4.0)\n",
      "Requirement already satisfied: idna in /Library/Frameworks/Python.framework/Versions/3.11/lib/python3.11/site-packages (from trio~=0.17->selenium->selenium-stealth) (3.4)\n",
      "Requirement already satisfied: outcome in /Library/Frameworks/Python.framework/Versions/3.11/lib/python3.11/site-packages (from trio~=0.17->selenium->selenium-stealth) (1.2.0)\n",
      "Requirement already satisfied: sniffio in /Library/Frameworks/Python.framework/Versions/3.11/lib/python3.11/site-packages (from trio~=0.17->selenium->selenium-stealth) (1.3.0)\n",
      "Requirement already satisfied: wsproto>=0.14 in /Library/Frameworks/Python.framework/Versions/3.11/lib/python3.11/site-packages (from trio-websocket~=0.9->selenium->selenium-stealth) (1.2.0)\n",
      "Requirement already satisfied: pysocks!=1.5.7,<2.0,>=1.5.6 in /Library/Frameworks/Python.framework/Versions/3.11/lib/python3.11/site-packages (from urllib3[socks]<3,>=1.26->selenium->selenium-stealth) (1.7.1)\n",
      "Requirement already satisfied: h11<1,>=0.9.0 in /Library/Frameworks/Python.framework/Versions/3.11/lib/python3.11/site-packages (from wsproto>=0.14->trio-websocket~=0.9->selenium->selenium-stealth) (0.14.0)\n",
      "Note: you may need to restart the kernel to use updated packages.\n"
     ]
    },
    {
     "name": "stderr",
     "output_type": "stream",
     "text": [
      "UsageError: Line magic function `%` not found.\n"
     ]
    }
   ],
   "source": [
    "%pip install selenium-stealth\n",
    "% pip install httpx parsel\n"
   ]
  },
  {
   "cell_type": "code",
   "execution_count": 12,
   "metadata": {},
   "outputs": [],
   "source": [
    "options = webdriver.ChromeOptions()\n",
    "options.add_argument(\"start-maximized\")\n",
    "\n",
    "# options.add_argument(\"--headless\")\n",
    "\n",
    "options.add_experimental_option(\"excludeSwitches\", [\"enable-automation\"])\n",
    "options.add_experimental_option('useAutomationExtension', False)\n",
    "service = Service(executable_path='./src/utils/chromedriver.exe')\n",
    "driver = webdriver.Chrome(options=options, service=service)\n",
    "\n",
    "stealth(driver,\n",
    "        languages=[\"en-US\", \"en\"],\n",
    "        vendor=\"Google Inc.\",\n",
    "        platform=\"Win32\",\n",
    "        webgl_vendor=\"Intel Inc.\",\n",
    "        renderer=\"Intel Iris OpenGL Engine\",\n",
    "        fix_hairline=True,\n",
    "        )\n",
    "\n",
    "url = \"https://www.idealista.com/alquiler-viviendas/madrid-madrid/\"\n",
    "driver.get(url)\n",
    "time.sleep(5)\n",
    "driver.quit()"
   ]
  },
  {
   "cell_type": "code",
   "execution_count": 2,
   "metadata": {},
   "outputs": [],
   "source": [
    "def rand_proxy():\n",
    "    proxy = random.choice(config.ips)\n",
    "    return proxy"
   ]
  },
  {
   "cell_type": "code",
   "execution_count": 19,
   "metadata": {},
   "outputs": [],
   "source": [
    "def main():\n",
    "    options = webdriver.ChromeOptions()\n",
    "    proxy = \"50.227.121.33:80\"\n",
    "    options.add_argument(f\"--proxy-server={proxy}\")\n",
    "    driver = webdriver.Chrome(service=service, options=options)\n",
    "    url =\"https://myexternalip.com/raw\"\n",
    "    driver.get(url)\n",
    "    time.sleep(10)\n",
    "\n",
    "    return driver\n",
    "\n"
   ]
  },
  {
   "cell_type": "code",
   "execution_count": 20,
   "metadata": {},
   "outputs": [],
   "source": [
    "driver = main()\n"
   ]
  },
  {
   "cell_type": "code",
   "execution_count": 18,
   "metadata": {},
   "outputs": [],
   "source": [
    "driver.quit()"
   ]
  },
  {
   "cell_type": "code",
   "execution_count": 81,
   "metadata": {},
   "outputs": [],
   "source": [
    "service = Service(executable_path='./src/utils/chromedriver.exe')\n",
    "options = webdriver.ChromeOptions()"
   ]
  },
  {
   "cell_type": "code",
   "execution_count": 82,
   "metadata": {},
   "outputs": [],
   "source": []
  },
  {
   "cell_type": "code",
   "execution_count": 23,
   "metadata": {},
   "outputs": [],
   "source": [
    "\n"
   ]
  },
  {
   "cell_type": "code",
   "execution_count": 2,
   "metadata": {},
   "outputs": [],
   "source": [
    "\n",
    "def get_rent_info(soup):\n",
    "    rent_info = {\n",
    "        \"Direction\": [],\n",
    "        \"Price\": [],\n",
    "        \"m2\": [],\n",
    "        \"Floor\": [],\n",
    "        \"Room\": [],\n",
    "        \"Description\": []\n",
    "    }\n",
    "    item_info = soup.find_all('div', class_=\"item-info-container\")\n",
    "    rent_info[\"Direction\"] = [x.find('a',class_=\"item-link\").get_text() for x in item_info]\n",
    "    rent_info[\"Price\"] = [x.find('span',class_=\"item-price h2-simulated\").get_text() for x in item_info]\n",
    "    rent_info[\"Description\"] = [x.find('div',class_=\"item-description description\").get_text() for x in item_info]\n",
    "\n",
    "    apart_detail = [x.find('div',class_=\"item-detail-char\").get_text() for x in item_info]\n",
    "\n",
    "    detail_list = [x.split('\\n') for x in apart_detail]\n",
    "\n",
    "    for elem in detail_list:\n",
    "        print(elem)\n",
    "        rent_info[\"Room\"].append(elem[1])\n",
    "        rent_info[\"m2\"].append(elem[2])\n",
    "        rent_info[\"Floor\"].append(elem[3])\n",
    "\n",
    "    df = pd.DataFrame(rent_info)\n",
    "    return df\n",
    "\n"
   ]
  },
  {
   "cell_type": "code",
   "execution_count": 4,
   "metadata": {},
   "outputs": [
    {
     "name": "stdout",
     "output_type": "stream",
     "text": [
      "[<html><head><title>idealista.com</title><style>#cmsg{animation: A 1.5s;}@keyframes A{0%{opacity:0;}99%{opacity:0;}100%{opacity:1;}}</style></head><body style=\"margin:0\"><p id=\"cmsg\">Please enable JS and disable any ad blocker</p><script data-cfasync=\"false\">var dd={'rt':'c','cid':'AHrlqAAAAAMASWeLBvto0NUAUByzMQ==','hsh':'AC81AADC3279CA4C7B968B717FBB30','t':'fe','s':17156,'e':'64033dfdd90b0f070e97cd109945f64c243f88c7d033ea30843c8fbbf598468c','host':'geo.captcha-delivery.com'}</script><script data-cfasync=\"false\" src=\"https://ct.captcha-delivery.com/c.js\"></script></body></html>, '\\n']\n",
      "[<html><head><title>idealista.com</title><style>#cmsg{animation: A 1.5s;}@keyframes A{0%{opacity:0;}99%{opacity:0;}100%{opacity:1;}}</style></head><body style=\"margin:0\"><p id=\"cmsg\">Please enable JS and disable any ad blocker</p><script data-cfasync=\"false\">var dd={'rt':'c','cid':'AHrlqAAAAAMAG-jopLimD9AAUByzMQ==','hsh':'AC81AADC3279CA4C7B968B717FBB30','t':'fe','s':17156,'e':'726fbdfb9527029dec79531aee69f1f7ebaee0f4178ce85675bdb1116f25207e','host':'geo.captcha-delivery.com'}</script><script data-cfasync=\"false\" src=\"https://ct.captcha-delivery.com/c.js\"></script></body></html>, '\\n']\n",
      "[<html><head><title>idealista.com</title><style>#cmsg{animation: A 1.5s;}@keyframes A{0%{opacity:0;}99%{opacity:0;}100%{opacity:1;}}</style></head><body style=\"margin:0\"><p id=\"cmsg\">Please enable JS and disable any ad blocker</p><script data-cfasync=\"false\">var dd={'rt':'c','cid':'AHrlqAAAAAMAl4EEuK-CmC0AUByzMQ==','hsh':'AC81AADC3279CA4C7B968B717FBB30','t':'fe','s':17156,'e':'3c2da921ffcb0a9eca7f68aa83d57456bdfd97f0835d20afbb8d4a3a4f818b1e','host':'geo.captcha-delivery.com'}</script><script data-cfasync=\"false\" src=\"https://ct.captcha-delivery.com/c.js\"></script></body></html>, '\\n']\n",
      "[<html><head><title>idealista.com</title><style>#cmsg{animation: A 1.5s;}@keyframes A{0%{opacity:0;}99%{opacity:0;}100%{opacity:1;}}</style></head><body style=\"margin:0\"><p id=\"cmsg\">Please enable JS and disable any ad blocker</p><script data-cfasync=\"false\">var dd={'rt':'c','cid':'AHrlqAAAAAMAl6X1UmAiPCIAUByzMQ==','hsh':'AC81AADC3279CA4C7B968B717FBB30','t':'fe','s':17156,'e':'68245ee5120f0935e09752bcc43e1527245c30905151da43098b1ac20f31917a','host':'geo.captcha-delivery.com'}</script><script data-cfasync=\"false\" src=\"https://ct.captcha-delivery.com/c.js\"></script></body></html>, '\\n']\n",
      "[<html><head><title>idealista.com</title><style>#cmsg{animation: A 1.5s;}@keyframes A{0%{opacity:0;}99%{opacity:0;}100%{opacity:1;}}</style></head><body style=\"margin:0\"><p id=\"cmsg\">Please enable JS and disable any ad blocker</p><script data-cfasync=\"false\">var dd={'rt':'c','cid':'AHrlqAAAAAMA5wjFCcXG1y8AUByzMQ==','hsh':'AC81AADC3279CA4C7B968B717FBB30','t':'fe','s':17156,'e':'f6674e3dc43c5db26b2c2dc674e41c284fd69daa61c563e3cc1389544f71a5fa','host':'geo.captcha-delivery.com'}</script><script data-cfasync=\"false\" src=\"https://ct.captcha-delivery.com/c.js\"></script></body></html>, '\\n']\n",
      "[<html><head><title>idealista.com</title><style>#cmsg{animation: A 1.5s;}@keyframes A{0%{opacity:0;}99%{opacity:0;}100%{opacity:1;}}</style></head><body style=\"margin:0\"><p id=\"cmsg\">Please enable JS and disable any ad blocker</p><script data-cfasync=\"false\">var dd={'rt':'c','cid':'AHrlqAAAAAMATvPdHMUG66sAUByzMQ==','hsh':'AC81AADC3279CA4C7B968B717FBB30','t':'fe','s':17156,'e':'b14f1880a8e28da9c76ae80e12385779a0e8664ca0788f281a712e2d016ef6e2','host':'geo.captcha-delivery.com'}</script><script data-cfasync=\"false\" src=\"https://ct.captcha-delivery.com/c.js\"></script></body></html>, '\\n']\n",
      "[<html><head><title>idealista.com</title><style>#cmsg{animation: A 1.5s;}@keyframes A{0%{opacity:0;}99%{opacity:0;}100%{opacity:1;}}</style></head><body style=\"margin:0\"><p id=\"cmsg\">Please enable JS and disable any ad blocker</p><script data-cfasync=\"false\">var dd={'rt':'c','cid':'AHrlqAAAAAMAhqKiy1zDv_EAUByzMQ==','hsh':'AC81AADC3279CA4C7B968B717FBB30','t':'fe','s':17156,'e':'1b0763e68e688d9ae8993cc7548cfc11b96f64a5cb10b3343391735fb71e6797','host':'geo.captcha-delivery.com'}</script><script data-cfasync=\"false\" src=\"https://ct.captcha-delivery.com/c.js\"></script></body></html>, '\\n']\n",
      "[<html><head><title>idealista.com</title><style>#cmsg{animation: A 1.5s;}@keyframes A{0%{opacity:0;}99%{opacity:0;}100%{opacity:1;}}</style></head><body style=\"margin:0\"><p id=\"cmsg\">Please enable JS and disable any ad blocker</p><script data-cfasync=\"false\">var dd={'rt':'c','cid':'AHrlqAAAAAMAPKPkQCXVi1kAUByzMQ==','hsh':'AC81AADC3279CA4C7B968B717FBB30','t':'fe','s':17156,'e':'652c77e780fbf7a86f720d5d9fb7b7c169989cb31dfaf16c3af39c0aac07f7ef','host':'geo.captcha-delivery.com'}</script><script data-cfasync=\"false\" src=\"https://ct.captcha-delivery.com/c.js\"></script></body></html>, '\\n']\n",
      "[<html><head><title>idealista.com</title><style>#cmsg{animation: A 1.5s;}@keyframes A{0%{opacity:0;}99%{opacity:0;}100%{opacity:1;}}</style></head><body style=\"margin:0\"><p id=\"cmsg\">Please enable JS and disable any ad blocker</p><script data-cfasync=\"false\">var dd={'rt':'c','cid':'AHrlqAAAAAMA_dY9Rsdg_qUAUByzMQ==','hsh':'AC81AADC3279CA4C7B968B717FBB30','t':'fe','s':17156,'e':'0f50392b58b2baef2b4edff8d26d24cf6a95600abe95545169bf79dc7be6cf73','host':'geo.captcha-delivery.com'}</script><script data-cfasync=\"false\" src=\"https://ct.captcha-delivery.com/c.js\"></script></body></html>, '\\n']\n"
     ]
    }
   ],
   "source": [
    "ua = fake_useragent.UserAgent()\n",
    "headers = {'User-Agent': ua.random}\n",
    "\n",
    "df_info = pd.DataFrame()\n",
    "for i in range(1,50):\n",
    "    try:\n",
    "        url = f\"https://www.idealista.com/alquiler-viviendas/madrid-madrid/pagina-{i}.htm\"\n",
    "        response = requests.get(url, headers=headers)\n",
    "        soup = bs(response.content, 'html.parser')\n",
    "        time.sleep(5)\n",
    "        print(soup.contents)\n",
    "        df_info.concat(get_rent_info(soup),ignore_index=True)\n",
    "    except:\n",
    "        pass\n",
    "\n",
    "df_info\n"
   ]
  },
  {
   "cell_type": "code",
   "execution_count": 79,
   "metadata": {},
   "outputs": [],
   "source": []
  },
  {
   "cell_type": "code",
   "execution_count": 80,
   "metadata": {},
   "outputs": [],
   "source": []
  },
  {
   "cell_type": "code",
   "execution_count": null,
   "metadata": {},
   "outputs": [],
   "source": []
  }
 ],
 "metadata": {
  "kernelspec": {
   "display_name": "Python 3",
   "language": "python",
   "name": "python3"
  },
  "language_info": {
   "codemirror_mode": {
    "name": "ipython",
    "version": 3
   },
   "file_extension": ".py",
   "mimetype": "text/x-python",
   "name": "python",
   "nbconvert_exporter": "python",
   "pygments_lexer": "ipython3",
   "version": "3.11.6"
  }
 },
 "nbformat": 4,
 "nbformat_minor": 2
}
